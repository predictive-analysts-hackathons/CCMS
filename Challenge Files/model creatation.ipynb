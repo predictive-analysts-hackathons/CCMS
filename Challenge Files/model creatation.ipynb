{
 "cells": [
  {
   "cell_type": "code",
   "execution_count": 26,
   "metadata": {},
   "outputs": [],
   "source": [
    "import pandas as pd\n",
    "import random\n",
    "import numpy as np\n",
    "import os"
   ]
  },
  {
   "cell_type": "code",
   "execution_count": 27,
   "metadata": {},
   "outputs": [],
   "source": [
    "observ = np.random.uniform(low=0.015984, high=4.166470, size=(1500))\n",
    "result =[]"
   ]
  },
  {
   "cell_type": "code",
   "execution_count": 28,
   "metadata": {},
   "outputs": [],
   "source": [
    "for i in observ:\n",
    "    if i > 2.819598:\n",
    "        result.append(1)\n",
    "    else:\n",
    "        result.append(0)"
   ]
  },
  {
   "cell_type": "markdown",
   "metadata": {},
   "source": [
    "# Classifier code"
   ]
  },
  {
   "cell_type": "markdown",
   "metadata": {},
   "source": [
    "----\n"
   ]
  },
  {
   "cell_type": "code",
   "execution_count": 29,
   "metadata": {},
   "outputs": [],
   "source": [
    "from sklearn.metrics import confusion_matrix, precision_score\n",
    "from sklearn.model_selection import train_test_split\n",
    "from keras.layers import Dense, Dropout\n",
    "from keras.models import Sequential\n",
    "from keras.regularizers import l2\n",
    "import matplotlib.pyplot as plt\n",
    "import pandas as pd\n",
    "import numpy as np"
   ]
  },
  {
   "cell_type": "code",
   "execution_count": 30,
   "metadata": {},
   "outputs": [],
   "source": [
    "x = np.array(observ)\n",
    "y = np.array(result)"
   ]
  },
  {
   "cell_type": "code",
   "execution_count": 31,
   "metadata": {},
   "outputs": [
    {
     "data": {
      "text/plain": [
       "((1350,), (1350,), (150,), (150,))"
      ]
     },
     "execution_count": 31,
     "metadata": {},
     "output_type": "execute_result"
    }
   ],
   "source": [
    "x_train,x_test,y_train,y_test = train_test_split(x,y,test_size = 0.10 , random_state = 0)\n",
    "x_train.shape,y_train.shape,x_test.shape,y_test.shape"
   ]
  },
  {
   "cell_type": "markdown",
   "metadata": {},
   "source": [
    "# model"
   ]
  },
  {
   "cell_type": "markdown",
   "metadata": {},
   "source": [
    "----\n"
   ]
  },
  {
   "cell_type": "code",
   "execution_count": 32,
   "metadata": {},
   "outputs": [],
   "source": [
    "model = Sequential()\n",
    "model.add(Dense(100,activation='relu',input_dim = 1 , kernel_regularizer = l2(0.01)))\n",
    "model.add(Dropout(0.3, noise_shape = None, seed = None))\n",
    "model.add(Dense(100,activation='relu',input_dim = 1 , kernel_regularizer = l2(0.01)))\n",
    "model.add(Dropout(0.3, noise_shape = None, seed = None))\n",
    "model.add(Dense(100,activation='relu',input_dim = 1 , kernel_regularizer = l2(0.01)))\n",
    "model.add(Dropout(0.3, noise_shape = None, seed = None))\n",
    "model.add(Dense(1,activation='sigmoid'))"
   ]
  },
  {
   "cell_type": "code",
   "execution_count": 33,
   "metadata": {},
   "outputs": [],
   "source": [
    "model.compile(loss = 'binary_crossentropy',optimizer = 'adam',metrics = ['accuracy'])"
   ]
  },
  {
   "cell_type": "code",
   "execution_count": 34,
   "metadata": {},
   "outputs": [
    {
     "name": "stdout",
     "output_type": "stream",
     "text": [
      "Train on 1350 samples, validate on 150 samples\n",
      "Epoch 1/50\n",
      "1350/1350 [==============================] - 1s 646us/step - loss: 2.3514 - acc: 0.6074 - val_loss: 1.9993 - val_acc: 0.5333\n",
      "Epoch 2/50\n",
      "1350/1350 [==============================] - 0s 95us/step - loss: 1.6901 - acc: 0.7644 - val_loss: 1.3910 - val_acc: 1.0000\n",
      "Epoch 3/50\n",
      "1350/1350 [==============================] - 0s 95us/step - loss: 1.1969 - acc: 0.8504 - val_loss: 0.9417 - val_acc: 0.9333\n",
      "Epoch 4/50\n",
      "1350/1350 [==============================] - 0s 104us/step - loss: 0.8071 - acc: 0.8956 - val_loss: 0.6103 - val_acc: 0.9667\n",
      "Epoch 5/50\n",
      "1350/1350 [==============================] - 0s 97us/step - loss: 0.5841 - acc: 0.9081 - val_loss: 0.4282 - val_acc: 1.0000\n",
      "Epoch 6/50\n",
      "1350/1350 [==============================] - 0s 93us/step - loss: 0.4379 - acc: 0.9378 - val_loss: 0.3369 - val_acc: 0.9867\n",
      "Epoch 7/50\n",
      "1350/1350 [==============================] - 0s 97us/step - loss: 0.3616 - acc: 0.9467 - val_loss: 0.2803 - val_acc: 0.9867\n",
      "Epoch 8/50\n",
      "1350/1350 [==============================] - 0s 101us/step - loss: 0.3131 - acc: 0.9407 - val_loss: 0.2407 - val_acc: 0.9867\n",
      "Epoch 9/50\n",
      "1350/1350 [==============================] - 0s 98us/step - loss: 0.2730 - acc: 0.9437 - val_loss: 0.2061 - val_acc: 0.9933\n",
      "Epoch 10/50\n",
      "1350/1350 [==============================] - 0s 99us/step - loss: 0.2479 - acc: 0.9519 - val_loss: 0.1887 - val_acc: 0.9867\n",
      "Epoch 11/50\n",
      "1350/1350 [==============================] - 0s 100us/step - loss: 0.2242 - acc: 0.9548 - val_loss: 0.1723 - val_acc: 0.9933\n",
      "Epoch 12/50\n",
      "1350/1350 [==============================] - 0s 100us/step - loss: 0.2140 - acc: 0.9585 - val_loss: 0.1647 - val_acc: 0.9867\n",
      "Epoch 13/50\n",
      "1350/1350 [==============================] - 0s 96us/step - loss: 0.2026 - acc: 0.9593 - val_loss: 0.1543 - val_acc: 0.9867\n",
      "Epoch 14/50\n",
      "1350/1350 [==============================] - 0s 95us/step - loss: 0.1938 - acc: 0.9622 - val_loss: 0.1436 - val_acc: 0.9933\n",
      "Epoch 15/50\n",
      "1350/1350 [==============================] - 0s 98us/step - loss: 0.1838 - acc: 0.9570 - val_loss: 0.1394 - val_acc: 0.9933\n",
      "Epoch 16/50\n",
      "1350/1350 [==============================] - 0s 94us/step - loss: 0.1781 - acc: 0.9600 - val_loss: 0.1394 - val_acc: 0.9867\n",
      "Epoch 17/50\n",
      "1350/1350 [==============================] - 0s 95us/step - loss: 0.1783 - acc: 0.9563 - val_loss: 0.1279 - val_acc: 0.9933\n",
      "Epoch 18/50\n",
      "1350/1350 [==============================] - 0s 97us/step - loss: 0.1699 - acc: 0.9622 - val_loss: 0.1280 - val_acc: 0.9933\n",
      "Epoch 19/50\n",
      "1350/1350 [==============================] - 0s 101us/step - loss: 0.1705 - acc: 0.9607 - val_loss: 0.1215 - val_acc: 1.0000\n",
      "Epoch 20/50\n",
      "1350/1350 [==============================] - 0s 105us/step - loss: 0.1587 - acc: 0.9659 - val_loss: 0.1180 - val_acc: 0.9933\n",
      "Epoch 21/50\n",
      "1350/1350 [==============================] - 0s 97us/step - loss: 0.1682 - acc: 0.9600 - val_loss: 0.1238 - val_acc: 0.9867\n",
      "Epoch 22/50\n",
      "1350/1350 [==============================] - 0s 97us/step - loss: 0.1577 - acc: 0.9659 - val_loss: 0.1139 - val_acc: 0.9933\n",
      "Epoch 23/50\n",
      "1350/1350 [==============================] - 0s 96us/step - loss: 0.1548 - acc: 0.9659 - val_loss: 0.1167 - val_acc: 0.9867\n",
      "Epoch 24/50\n",
      "1350/1350 [==============================] - 0s 100us/step - loss: 0.1518 - acc: 0.9689 - val_loss: 0.1103 - val_acc: 0.9933\n",
      "Epoch 25/50\n",
      "1350/1350 [==============================] - 0s 99us/step - loss: 0.1452 - acc: 0.9726 - val_loss: 0.1150 - val_acc: 0.9867\n",
      "Epoch 26/50\n",
      "1350/1350 [==============================] - 0s 98us/step - loss: 0.1631 - acc: 0.9585 - val_loss: 0.1079 - val_acc: 0.9933\n",
      "Epoch 27/50\n",
      "1350/1350 [==============================] - 0s 100us/step - loss: 0.1439 - acc: 0.9681 - val_loss: 0.1088 - val_acc: 0.9933\n",
      "Epoch 28/50\n",
      "1350/1350 [==============================] - 0s 106us/step - loss: 0.1347 - acc: 0.9770 - val_loss: 0.1115 - val_acc: 0.9867\n",
      "Epoch 29/50\n",
      "1350/1350 [==============================] - 0s 98us/step - loss: 0.1480 - acc: 0.9630 - val_loss: 0.1043 - val_acc: 0.9933\n",
      "Epoch 30/50\n",
      "1350/1350 [==============================] - 0s 103us/step - loss: 0.1479 - acc: 0.9622 - val_loss: 0.1063 - val_acc: 0.9933\n",
      "Epoch 31/50\n",
      "1350/1350 [==============================] - 0s 97us/step - loss: 0.1501 - acc: 0.9622 - val_loss: 0.1049 - val_acc: 0.9800\n",
      "Epoch 32/50\n",
      "1350/1350 [==============================] - 0s 99us/step - loss: 0.1406 - acc: 0.9689 - val_loss: 0.1008 - val_acc: 0.9933\n",
      "Epoch 33/50\n",
      "1350/1350 [==============================] - 0s 119us/step - loss: 0.1312 - acc: 0.9756 - val_loss: 0.0997 - val_acc: 0.9933\n",
      "Epoch 34/50\n",
      "1350/1350 [==============================] - 0s 110us/step - loss: 0.1378 - acc: 0.9689 - val_loss: 0.1027 - val_acc: 0.9933\n",
      "Epoch 35/50\n",
      "1350/1350 [==============================] - 0s 98us/step - loss: 0.1381 - acc: 0.9719 - val_loss: 0.0984 - val_acc: 0.9933\n",
      "Epoch 36/50\n",
      "1350/1350 [==============================] - 0s 92us/step - loss: 0.1344 - acc: 0.9696 - val_loss: 0.0973 - val_acc: 1.0000\n",
      "Epoch 37/50\n",
      "1350/1350 [==============================] - 0s 92us/step - loss: 0.1333 - acc: 0.9689 - val_loss: 0.0964 - val_acc: 0.9933\n",
      "Epoch 38/50\n",
      "1350/1350 [==============================] - 0s 90us/step - loss: 0.1380 - acc: 0.9681 - val_loss: 0.1015 - val_acc: 0.9733\n",
      "Epoch 39/50\n",
      "1350/1350 [==============================] - 0s 92us/step - loss: 0.1367 - acc: 0.9696 - val_loss: 0.0966 - val_acc: 0.9933\n",
      "Epoch 40/50\n",
      "1350/1350 [==============================] - 0s 95us/step - loss: 0.1295 - acc: 0.9689 - val_loss: 0.0943 - val_acc: 1.0000\n",
      "Epoch 41/50\n",
      "1350/1350 [==============================] - 0s 95us/step - loss: 0.1272 - acc: 0.9726 - val_loss: 0.0974 - val_acc: 0.9933\n",
      "Epoch 42/50\n",
      "1350/1350 [==============================] - 0s 93us/step - loss: 0.1273 - acc: 0.9741 - val_loss: 0.0936 - val_acc: 1.0000\n",
      "Epoch 43/50\n",
      "1350/1350 [==============================] - 0s 91us/step - loss: 0.1253 - acc: 0.9741 - val_loss: 0.0922 - val_acc: 0.9933\n",
      "Epoch 44/50\n",
      "1350/1350 [==============================] - 0s 92us/step - loss: 0.1294 - acc: 0.9719 - val_loss: 0.0961 - val_acc: 0.9933\n",
      "Epoch 45/50\n",
      "1350/1350 [==============================] - 0s 100us/step - loss: 0.1245 - acc: 0.9711 - val_loss: 0.0916 - val_acc: 1.0000\n",
      "Epoch 46/50\n",
      "1350/1350 [==============================] - 0s 96us/step - loss: 0.1306 - acc: 0.9704 - val_loss: 0.0943 - val_acc: 0.9933\n",
      "Epoch 47/50\n",
      "1350/1350 [==============================] - 0s 96us/step - loss: 0.1276 - acc: 0.9719 - val_loss: 0.0985 - val_acc: 0.9867\n",
      "Epoch 48/50\n",
      "1350/1350 [==============================] - 0s 96us/step - loss: 0.1196 - acc: 0.9778 - val_loss: 0.0903 - val_acc: 0.9933\n",
      "Epoch 49/50\n",
      "1350/1350 [==============================] - 0s 100us/step - loss: 0.1217 - acc: 0.9711 - val_loss: 0.0897 - val_acc: 0.9933\n",
      "Epoch 50/50\n",
      "1350/1350 [==============================] - 0s 95us/step - loss: 0.1237 - acc: 0.9719 - val_loss: 0.0953 - val_acc: 0.9867\n"
     ]
    }
   ],
   "source": [
    "model_output = model.fit(x_train,y_train,epochs = 50, batch_size = 50, verbose = 1 , validation_data=(x_test,y_test))"
   ]
  },
  {
   "cell_type": "code",
   "execution_count": 35,
   "metadata": {},
   "outputs": [],
   "source": [
    "y_pred = model.predict(x_test)\n",
    "rounded = [round(x[0]) for x in y_pred]\n",
    "y_pred1 = np.array(rounded,dtype = 'int64')"
   ]
  },
  {
   "cell_type": "code",
   "execution_count": 36,
   "metadata": {},
   "outputs": [
    {
     "data": {
      "text/plain": [
       "array([[110,   2],\n",
       "       [  0,  38]], dtype=int64)"
      ]
     },
     "execution_count": 36,
     "metadata": {},
     "output_type": "execute_result"
    }
   ],
   "source": [
    "confusion_matrix(y_test, y_pred1)"
   ]
  },
  {
   "cell_type": "code",
   "execution_count": 37,
   "metadata": {},
   "outputs": [
    {
     "data": {
      "text/plain": [
       "0.95"
      ]
     },
     "execution_count": 37,
     "metadata": {},
     "output_type": "execute_result"
    }
   ],
   "source": [
    "precision_score(y_test,y_pred1)"
   ]
  },
  {
   "cell_type": "code",
   "execution_count": 38,
   "metadata": {},
   "outputs": [],
   "source": [
    "model.save(\"sl_classifier.h5\")"
   ]
  },
  {
   "cell_type": "code",
   "execution_count": 39,
   "metadata": {},
   "outputs": [
    {
     "name": "stdout",
     "output_type": "stream",
     "text": [
      " Volume in drive F is MIsc\n",
      " Volume Serial Number is B01A-B331\n",
      "\n",
      " Directory of F:\\codes\\hackathon\\project1\\classifier\n",
      "\n",
      "01-06-2019  22:55    <DIR>          .\n",
      "01-06-2019  22:55    <DIR>          ..\n",
      "01-06-2019  22:11    <DIR>          .ipynb_checkpoints\n",
      "01-06-2019  22:55           282,352 sl_classifier.h5\n",
      "01-06-2019  22:54            12,904 Untitled.ipynb\n",
      "               2 File(s)        295,256 bytes\n",
      "               3 Dir(s)   5,358,546,944 bytes free\n"
     ]
    }
   ],
   "source": [
    "ls"
   ]
  },
  {
   "cell_type": "code",
   "execution_count": null,
   "metadata": {},
   "outputs": [],
   "source": []
  }
 ],
 "metadata": {
  "kernelspec": {
   "display_name": "Python 3",
   "language": "python",
   "name": "python3"
  },
  "language_info": {
   "codemirror_mode": {
    "name": "ipython",
    "version": 3
   },
   "file_extension": ".py",
   "mimetype": "text/x-python",
   "name": "python",
   "nbconvert_exporter": "python",
   "pygments_lexer": "ipython3",
   "version": "3.6.8"
  }
 },
 "nbformat": 4,
 "nbformat_minor": 2
}
