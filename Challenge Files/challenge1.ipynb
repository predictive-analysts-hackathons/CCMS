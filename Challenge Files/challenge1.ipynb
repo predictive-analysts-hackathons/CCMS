{
  "nbformat": 4,
  "nbformat_minor": 0,
  "metadata": {
    "colab": {
      "name": "challenge1.ipynb",
      "version": "0.3.2",
      "provenance": [],
      "collapsed_sections": []
    },
    "kernelspec": {
      "name": "python3",
      "display_name": "Python 3"
    },
    "accelerator": "GPU"
  },
  "cells": [
    {
      "cell_type": "code",
      "metadata": {
        "id": "-_NeRJbTopwm",
        "colab_type": "code",
        "colab": {}
      },
      "source": [
        "# importing pandas\n",
        "import pandas as pd\n",
        "\n",
        "# importing numpy\n",
        "import numpy as np\n",
        "\n",
        "#importing dateutil\n",
        "import dateutil\n",
        "\n",
        "#importing matplotlib as plt\n",
        "import matplotlib.pylab as plt\n",
        "%matplotlib inline"
      ],
      "execution_count": 0,
      "outputs": []
    },
    {
      "cell_type": "code",
      "metadata": {
        "id": "_V5qSiJHpfmO",
        "colab_type": "code",
        "outputId": "de4c65a5-924b-4c85-f6e4-b109277051e4",
        "colab": {
          "base_uri": "https://localhost:8080/",
          "height": 34
        }
      },
      "source": [
        "from google.colab import drive\n",
        "drive.mount('/content/drive')\n"
      ],
      "execution_count": 6,
      "outputs": [
        {
          "output_type": "stream",
          "text": [
            "Drive already mounted at /content/drive; to attempt to forcibly remount, call drive.mount(\"/content/drive\", force_remount=True).\n"
          ],
          "name": "stdout"
        }
      ]
    },
    {
      "cell_type": "code",
      "metadata": {
        "id": "xye2ECXcsjsd",
        "colab_type": "code",
        "outputId": "afc6bc51-c8e3-4c96-aaf2-6c0de263dca8",
        "colab": {
          "base_uri": "https://localhost:8080/",
          "height": 34
        }
      },
      "source": [
        "ls"
      ],
      "execution_count": 7,
      "outputs": [
        {
          "output_type": "stream",
          "text": [
            "\u001b[0m\u001b[01;34mdrive\u001b[0m/  \u001b[01;34msample_data\u001b[0m/\n"
          ],
          "name": "stdout"
        }
      ]
    },
    {
      "cell_type": "code",
      "metadata": {
        "id": "a2ADzWaMsn0N",
        "colab_type": "code",
        "colab": {}
      },
      "source": [
        "df = pd.read_excel('/content/drive/My Drive/Dummy data/Load Survey Data (6).xlsx')"
      ],
      "execution_count": 0,
      "outputs": []
    },
    {
      "cell_type": "code",
      "metadata": {
        "id": "o_iaOHvNtJFY",
        "colab_type": "code",
        "colab": {
          "base_uri": "https://localhost:8080/",
          "height": 197
        },
        "outputId": "2d4a38d6-8c98-49c5-8830-dd7227332fe5"
      },
      "source": [
        "df.head()"
      ],
      "execution_count": 9,
      "outputs": [
        {
          "output_type": "execute_result",
          "data": {
            "text/html": [
              "<div>\n",
              "<style scoped>\n",
              "    .dataframe tbody tr th:only-of-type {\n",
              "        vertical-align: middle;\n",
              "    }\n",
              "\n",
              "    .dataframe tbody tr th {\n",
              "        vertical-align: top;\n",
              "    }\n",
              "\n",
              "    .dataframe thead th {\n",
              "        text-align: right;\n",
              "    }\n",
              "</style>\n",
              "<table border=\"1\" class=\"dataframe\">\n",
              "  <thead>\n",
              "    <tr style=\"text-align: right;\">\n",
              "      <th></th>\n",
              "      <th>CCMS ID</th>\n",
              "      <th>Timestamp</th>\n",
              "      <th>KWh</th>\n",
              "      <th>KVAh</th>\n",
              "      <th>Vr (Volt)</th>\n",
              "      <th>Vy (Volt)</th>\n",
              "      <th>Vb (Volt)</th>\n",
              "      <th>Ir (Amp)</th>\n",
              "      <th>Iy (Amp)</th>\n",
              "      <th>Ib (Amp)</th>\n",
              "      <th>Freq (Hz)</th>\n",
              "      <th>PF Total</th>\n",
              "      <th>Total Load</th>\n",
              "    </tr>\n",
              "  </thead>\n",
              "  <tbody>\n",
              "    <tr>\n",
              "      <th>0</th>\n",
              "      <td>SMR03-0219-0252</td>\n",
              "      <td>2019-05-01 23:00:00</td>\n",
              "      <td>2.732</td>\n",
              "      <td>2.752</td>\n",
              "      <td>233.23</td>\n",
              "      <td>234.30</td>\n",
              "      <td>235.21</td>\n",
              "      <td>10.31</td>\n",
              "      <td>5.41</td>\n",
              "      <td>5.79</td>\n",
              "      <td>50.08</td>\n",
              "      <td>0.955  Ld</td>\n",
              "      <td>5.17</td>\n",
              "    </tr>\n",
              "    <tr>\n",
              "      <th>1</th>\n",
              "      <td>SMR03-0219-0252</td>\n",
              "      <td>2019-05-01 22:00:00</td>\n",
              "      <td>5.108</td>\n",
              "      <td>5.143</td>\n",
              "      <td>236.64</td>\n",
              "      <td>238.00</td>\n",
              "      <td>238.73</td>\n",
              "      <td>10.53</td>\n",
              "      <td>5.40</td>\n",
              "      <td>5.78</td>\n",
              "      <td>50.08</td>\n",
              "      <td>0.987  Ld</td>\n",
              "      <td>5.17</td>\n",
              "    </tr>\n",
              "    <tr>\n",
              "      <th>2</th>\n",
              "      <td>SMR03-0219-0252</td>\n",
              "      <td>2019-05-01 21:00:00</td>\n",
              "      <td>5.120</td>\n",
              "      <td>5.156</td>\n",
              "      <td>237.01</td>\n",
              "      <td>238.69</td>\n",
              "      <td>239.36</td>\n",
              "      <td>10.54</td>\n",
              "      <td>5.40</td>\n",
              "      <td>5.79</td>\n",
              "      <td>50.10</td>\n",
              "      <td>0.987  Ld</td>\n",
              "      <td>5.17</td>\n",
              "    </tr>\n",
              "    <tr>\n",
              "      <th>3</th>\n",
              "      <td>SMR03-0219-0252</td>\n",
              "      <td>2019-05-01 20:00:00</td>\n",
              "      <td>4.985</td>\n",
              "      <td>5.025</td>\n",
              "      <td>237.29</td>\n",
              "      <td>238.79</td>\n",
              "      <td>239.56</td>\n",
              "      <td>9.71</td>\n",
              "      <td>5.42</td>\n",
              "      <td>5.79</td>\n",
              "      <td>50.07</td>\n",
              "      <td>0.985  Ld</td>\n",
              "      <td>5.17</td>\n",
              "    </tr>\n",
              "    <tr>\n",
              "      <th>4</th>\n",
              "      <td>SMR03-0219-0252</td>\n",
              "      <td>2019-05-01 19:00:00</td>\n",
              "      <td>0.372</td>\n",
              "      <td>0.375</td>\n",
              "      <td>244.08</td>\n",
              "      <td>245.06</td>\n",
              "      <td>245.75</td>\n",
              "      <td>0.52</td>\n",
              "      <td>0.26</td>\n",
              "      <td>0.26</td>\n",
              "      <td>50.24</td>\n",
              "      <td>0.87  Lag</td>\n",
              "      <td>5.17</td>\n",
              "    </tr>\n",
              "  </tbody>\n",
              "</table>\n",
              "</div>"
            ],
            "text/plain": [
              "           CCMS ID            Timestamp  ...   PF Total  Total Load\n",
              "0  SMR03-0219-0252  2019-05-01 23:00:00  ...  0.955  Ld        5.17\n",
              "1  SMR03-0219-0252  2019-05-01 22:00:00  ...  0.987  Ld        5.17\n",
              "2  SMR03-0219-0252  2019-05-01 21:00:00  ...  0.987  Ld        5.17\n",
              "3  SMR03-0219-0252  2019-05-01 20:00:00  ...  0.985  Ld        5.17\n",
              "4  SMR03-0219-0252  2019-05-01 19:00:00  ...  0.87  Lag        5.17\n",
              "\n",
              "[5 rows x 13 columns]"
            ]
          },
          "metadata": {
            "tags": []
          },
          "execution_count": 9
        }
      ]
    },
    {
      "cell_type": "code",
      "metadata": {
        "id": "fRvm4giptNzH",
        "colab_type": "code",
        "colab": {
          "base_uri": "https://localhost:8080/",
          "height": 197
        },
        "outputId": "26b3645e-d594-449a-a66a-95e096b8b50e"
      },
      "source": [
        "df.tail()"
      ],
      "execution_count": 10,
      "outputs": [
        {
          "output_type": "execute_result",
          "data": {
            "text/html": [
              "<div>\n",
              "<style scoped>\n",
              "    .dataframe tbody tr th:only-of-type {\n",
              "        vertical-align: middle;\n",
              "    }\n",
              "\n",
              "    .dataframe tbody tr th {\n",
              "        vertical-align: top;\n",
              "    }\n",
              "\n",
              "    .dataframe thead th {\n",
              "        text-align: right;\n",
              "    }\n",
              "</style>\n",
              "<table border=\"1\" class=\"dataframe\">\n",
              "  <thead>\n",
              "    <tr style=\"text-align: right;\">\n",
              "      <th></th>\n",
              "      <th>CCMS ID</th>\n",
              "      <th>Timestamp</th>\n",
              "      <th>KWh</th>\n",
              "      <th>KVAh</th>\n",
              "      <th>Vr (Volt)</th>\n",
              "      <th>Vy (Volt)</th>\n",
              "      <th>Vb (Volt)</th>\n",
              "      <th>Ir (Amp)</th>\n",
              "      <th>Iy (Amp)</th>\n",
              "      <th>Ib (Amp)</th>\n",
              "      <th>Freq (Hz)</th>\n",
              "      <th>PF Total</th>\n",
              "      <th>Total Load</th>\n",
              "    </tr>\n",
              "  </thead>\n",
              "  <tbody>\n",
              "    <tr>\n",
              "      <th>737</th>\n",
              "      <td>SMR03-0219-0252</td>\n",
              "      <td>2019-04-01 04:00:00</td>\n",
              "      <td>5.141</td>\n",
              "      <td>5.175</td>\n",
              "      <td>238.13</td>\n",
              "      <td>237.55</td>\n",
              "      <td>237.05</td>\n",
              "      <td>10.39</td>\n",
              "      <td>4.97</td>\n",
              "      <td>6.35</td>\n",
              "      <td>50.12</td>\n",
              "      <td>0.987  Ld</td>\n",
              "      <td>5.17</td>\n",
              "    </tr>\n",
              "    <tr>\n",
              "      <th>738</th>\n",
              "      <td>SMR03-0219-0252</td>\n",
              "      <td>2019-04-01 03:00:00</td>\n",
              "      <td>5.142</td>\n",
              "      <td>5.176</td>\n",
              "      <td>237.62</td>\n",
              "      <td>237.19</td>\n",
              "      <td>236.74</td>\n",
              "      <td>10.45</td>\n",
              "      <td>5.01</td>\n",
              "      <td>6.38</td>\n",
              "      <td>49.96</td>\n",
              "      <td>0.987  Ld</td>\n",
              "      <td>5.17</td>\n",
              "    </tr>\n",
              "    <tr>\n",
              "      <th>739</th>\n",
              "      <td>SMR03-0219-0252</td>\n",
              "      <td>2019-04-01 02:00:00</td>\n",
              "      <td>5.089</td>\n",
              "      <td>5.124</td>\n",
              "      <td>236.01</td>\n",
              "      <td>235.67</td>\n",
              "      <td>235.23</td>\n",
              "      <td>10.49</td>\n",
              "      <td>5.03</td>\n",
              "      <td>5.94</td>\n",
              "      <td>50.03</td>\n",
              "      <td>0.986  Ld</td>\n",
              "      <td>5.17</td>\n",
              "    </tr>\n",
              "    <tr>\n",
              "      <th>740</th>\n",
              "      <td>SMR03-0219-0252</td>\n",
              "      <td>2019-04-01 01:00:00</td>\n",
              "      <td>5.024</td>\n",
              "      <td>5.060</td>\n",
              "      <td>234.46</td>\n",
              "      <td>234.13</td>\n",
              "      <td>233.58</td>\n",
              "      <td>10.57</td>\n",
              "      <td>5.06</td>\n",
              "      <td>5.98</td>\n",
              "      <td>50.12</td>\n",
              "      <td>0.987  Ld</td>\n",
              "      <td>5.17</td>\n",
              "    </tr>\n",
              "    <tr>\n",
              "      <th>741</th>\n",
              "      <td>SMR03-0219-0252</td>\n",
              "      <td>2019-04-01 00:00:00</td>\n",
              "      <td>5.028</td>\n",
              "      <td>5.062</td>\n",
              "      <td>231.67</td>\n",
              "      <td>231.34</td>\n",
              "      <td>230.90</td>\n",
              "      <td>10.75</td>\n",
              "      <td>5.15</td>\n",
              "      <td>6.07</td>\n",
              "      <td>50.08</td>\n",
              "      <td>0.987  Ld</td>\n",
              "      <td>5.17</td>\n",
              "    </tr>\n",
              "  </tbody>\n",
              "</table>\n",
              "</div>"
            ],
            "text/plain": [
              "             CCMS ID            Timestamp  ...   PF Total  Total Load\n",
              "737  SMR03-0219-0252  2019-04-01 04:00:00  ...  0.987  Ld        5.17\n",
              "738  SMR03-0219-0252  2019-04-01 03:00:00  ...  0.987  Ld        5.17\n",
              "739  SMR03-0219-0252  2019-04-01 02:00:00  ...  0.986  Ld        5.17\n",
              "740  SMR03-0219-0252  2019-04-01 01:00:00  ...  0.987  Ld        5.17\n",
              "741  SMR03-0219-0252  2019-04-01 00:00:00  ...  0.987  Ld        5.17\n",
              "\n",
              "[5 rows x 13 columns]"
            ]
          },
          "metadata": {
            "tags": []
          },
          "execution_count": 10
        }
      ]
    },
    {
      "cell_type": "code",
      "metadata": {
        "id": "wzlA8xpEtfmp",
        "colab_type": "code",
        "colab": {}
      },
      "source": [
        "#converting timestamp oject to datetime object\n",
        "df['Timestamp'] = df['Timestamp'].apply(dateutil.parser.parse)\n",
        "\n",
        "#list of columns to drop\n",
        "drop_columns = ['Vr (Volt)','Vy (Volt)','Vb (Volt)','Ir (Amp)','Iy (Amp)','Ib (Amp)','Freq (Hz)']\n",
        "\n",
        "#dropped columns dataframe\n",
        "df_column_drop = df.drop(drop_columns,axis=1)\n",
        "\n",
        "#changing column names\n",
        "df_column_drop.columns = ['CCMS','timestamp','kwh','kvah','pf_total','total_load']"
      ],
      "execution_count": 0,
      "outputs": []
    },
    {
      "cell_type": "code",
      "metadata": {
        "id": "vUURORTkuaXO",
        "colab_type": "code",
        "colab": {}
      },
      "source": [
        "df = df.drop(drop_columns,axis=1)"
      ],
      "execution_count": 0,
      "outputs": []
    },
    {
      "cell_type": "code",
      "metadata": {
        "id": "mo78IK3BucpX",
        "colab_type": "code",
        "outputId": "a5153213-995f-4e92-dcaa-94064b19f329",
        "colab": {
          "base_uri": "https://localhost:8080/",
          "height": 197
        }
      },
      "source": [
        "df.head()"
      ],
      "execution_count": 13,
      "outputs": [
        {
          "output_type": "execute_result",
          "data": {
            "text/html": [
              "<div>\n",
              "<style scoped>\n",
              "    .dataframe tbody tr th:only-of-type {\n",
              "        vertical-align: middle;\n",
              "    }\n",
              "\n",
              "    .dataframe tbody tr th {\n",
              "        vertical-align: top;\n",
              "    }\n",
              "\n",
              "    .dataframe thead th {\n",
              "        text-align: right;\n",
              "    }\n",
              "</style>\n",
              "<table border=\"1\" class=\"dataframe\">\n",
              "  <thead>\n",
              "    <tr style=\"text-align: right;\">\n",
              "      <th></th>\n",
              "      <th>CCMS ID</th>\n",
              "      <th>Timestamp</th>\n",
              "      <th>KWh</th>\n",
              "      <th>KVAh</th>\n",
              "      <th>PF Total</th>\n",
              "      <th>Total Load</th>\n",
              "    </tr>\n",
              "  </thead>\n",
              "  <tbody>\n",
              "    <tr>\n",
              "      <th>0</th>\n",
              "      <td>SMR03-0219-0252</td>\n",
              "      <td>2019-05-01 23:00:00</td>\n",
              "      <td>2.732</td>\n",
              "      <td>2.752</td>\n",
              "      <td>0.955  Ld</td>\n",
              "      <td>5.17</td>\n",
              "    </tr>\n",
              "    <tr>\n",
              "      <th>1</th>\n",
              "      <td>SMR03-0219-0252</td>\n",
              "      <td>2019-05-01 22:00:00</td>\n",
              "      <td>5.108</td>\n",
              "      <td>5.143</td>\n",
              "      <td>0.987  Ld</td>\n",
              "      <td>5.17</td>\n",
              "    </tr>\n",
              "    <tr>\n",
              "      <th>2</th>\n",
              "      <td>SMR03-0219-0252</td>\n",
              "      <td>2019-05-01 21:00:00</td>\n",
              "      <td>5.120</td>\n",
              "      <td>5.156</td>\n",
              "      <td>0.987  Ld</td>\n",
              "      <td>5.17</td>\n",
              "    </tr>\n",
              "    <tr>\n",
              "      <th>3</th>\n",
              "      <td>SMR03-0219-0252</td>\n",
              "      <td>2019-05-01 20:00:00</td>\n",
              "      <td>4.985</td>\n",
              "      <td>5.025</td>\n",
              "      <td>0.985  Ld</td>\n",
              "      <td>5.17</td>\n",
              "    </tr>\n",
              "    <tr>\n",
              "      <th>4</th>\n",
              "      <td>SMR03-0219-0252</td>\n",
              "      <td>2019-05-01 19:00:00</td>\n",
              "      <td>0.372</td>\n",
              "      <td>0.375</td>\n",
              "      <td>0.87  Lag</td>\n",
              "      <td>5.17</td>\n",
              "    </tr>\n",
              "  </tbody>\n",
              "</table>\n",
              "</div>"
            ],
            "text/plain": [
              "           CCMS ID           Timestamp    KWh   KVAh   PF Total  Total Load\n",
              "0  SMR03-0219-0252 2019-05-01 23:00:00  2.732  2.752  0.955  Ld        5.17\n",
              "1  SMR03-0219-0252 2019-05-01 22:00:00  5.108  5.143  0.987  Ld        5.17\n",
              "2  SMR03-0219-0252 2019-05-01 21:00:00  5.120  5.156  0.987  Ld        5.17\n",
              "3  SMR03-0219-0252 2019-05-01 20:00:00  4.985  5.025  0.985  Ld        5.17\n",
              "4  SMR03-0219-0252 2019-05-01 19:00:00  0.372  0.375  0.87  Lag        5.17"
            ]
          },
          "metadata": {
            "tags": []
          },
          "execution_count": 13
        }
      ]
    },
    {
      "cell_type": "code",
      "metadata": {
        "id": "fzUbxQEVuhAV",
        "colab_type": "code",
        "outputId": "773186fd-d380-4b61-c577-7e7202b07d82",
        "colab": {
          "base_uri": "https://localhost:8080/",
          "height": 287
        }
      },
      "source": [
        "df.describe()"
      ],
      "execution_count": 14,
      "outputs": [
        {
          "output_type": "execute_result",
          "data": {
            "text/html": [
              "<div>\n",
              "<style scoped>\n",
              "    .dataframe tbody tr th:only-of-type {\n",
              "        vertical-align: middle;\n",
              "    }\n",
              "\n",
              "    .dataframe tbody tr th {\n",
              "        vertical-align: top;\n",
              "    }\n",
              "\n",
              "    .dataframe thead th {\n",
              "        text-align: right;\n",
              "    }\n",
              "</style>\n",
              "<table border=\"1\" class=\"dataframe\">\n",
              "  <thead>\n",
              "    <tr style=\"text-align: right;\">\n",
              "      <th></th>\n",
              "      <th>KWh</th>\n",
              "      <th>KVAh</th>\n",
              "      <th>Total Load</th>\n",
              "    </tr>\n",
              "  </thead>\n",
              "  <tbody>\n",
              "    <tr>\n",
              "      <th>count</th>\n",
              "      <td>742.000000</td>\n",
              "      <td>742.000000</td>\n",
              "      <td>7.420000e+02</td>\n",
              "    </tr>\n",
              "    <tr>\n",
              "      <th>mean</th>\n",
              "      <td>2.139387</td>\n",
              "      <td>2.153534</td>\n",
              "      <td>5.170000e+00</td>\n",
              "    </tr>\n",
              "    <tr>\n",
              "      <th>std</th>\n",
              "      <td>2.296270</td>\n",
              "      <td>2.311301</td>\n",
              "      <td>4.799399e-14</td>\n",
              "    </tr>\n",
              "    <tr>\n",
              "      <th>min</th>\n",
              "      <td>0.000000</td>\n",
              "      <td>0.000000</td>\n",
              "      <td>5.170000e+00</td>\n",
              "    </tr>\n",
              "    <tr>\n",
              "      <th>25%</th>\n",
              "      <td>0.000000</td>\n",
              "      <td>0.000000</td>\n",
              "      <td>5.170000e+00</td>\n",
              "    </tr>\n",
              "    <tr>\n",
              "      <th>50%</th>\n",
              "      <td>0.480000</td>\n",
              "      <td>0.484000</td>\n",
              "      <td>5.170000e+00</td>\n",
              "    </tr>\n",
              "    <tr>\n",
              "      <th>75%</th>\n",
              "      <td>4.493000</td>\n",
              "      <td>4.520000</td>\n",
              "      <td>5.170000e+00</td>\n",
              "    </tr>\n",
              "    <tr>\n",
              "      <th>max</th>\n",
              "      <td>5.453000</td>\n",
              "      <td>5.489000</td>\n",
              "      <td>5.170000e+00</td>\n",
              "    </tr>\n",
              "  </tbody>\n",
              "</table>\n",
              "</div>"
            ],
            "text/plain": [
              "              KWh        KVAh    Total Load\n",
              "count  742.000000  742.000000  7.420000e+02\n",
              "mean     2.139387    2.153534  5.170000e+00\n",
              "std      2.296270    2.311301  4.799399e-14\n",
              "min      0.000000    0.000000  5.170000e+00\n",
              "25%      0.000000    0.000000  5.170000e+00\n",
              "50%      0.480000    0.484000  5.170000e+00\n",
              "75%      4.493000    4.520000  5.170000e+00\n",
              "max      5.453000    5.489000  5.170000e+00"
            ]
          },
          "metadata": {
            "tags": []
          },
          "execution_count": 14
        }
      ]
    },
    {
      "cell_type": "code",
      "metadata": {
        "id": "ET2yOFXQujyK",
        "colab_type": "code",
        "colab": {}
      },
      "source": [
        "df = df[df.KWh != 0]"
      ],
      "execution_count": 0,
      "outputs": []
    },
    {
      "cell_type": "code",
      "metadata": {
        "id": "2x9eoHruvIlo",
        "colab_type": "code",
        "outputId": "578a79e4-91f9-4547-b7fb-f8ec603a336a",
        "colab": {
          "base_uri": "https://localhost:8080/",
          "height": 287
        }
      },
      "source": [
        "df.describe()"
      ],
      "execution_count": 16,
      "outputs": [
        {
          "output_type": "execute_result",
          "data": {
            "text/html": [
              "<div>\n",
              "<style scoped>\n",
              "    .dataframe tbody tr th:only-of-type {\n",
              "        vertical-align: middle;\n",
              "    }\n",
              "\n",
              "    .dataframe tbody tr th {\n",
              "        vertical-align: top;\n",
              "    }\n",
              "\n",
              "    .dataframe thead th {\n",
              "        text-align: right;\n",
              "    }\n",
              "</style>\n",
              "<table border=\"1\" class=\"dataframe\">\n",
              "  <thead>\n",
              "    <tr style=\"text-align: right;\">\n",
              "      <th></th>\n",
              "      <th>KWh</th>\n",
              "      <th>KVAh</th>\n",
              "      <th>Total Load</th>\n",
              "    </tr>\n",
              "  </thead>\n",
              "  <tbody>\n",
              "    <tr>\n",
              "      <th>count</th>\n",
              "      <td>381.000000</td>\n",
              "      <td>381.000000</td>\n",
              "      <td>3.810000e+02</td>\n",
              "    </tr>\n",
              "    <tr>\n",
              "      <th>mean</th>\n",
              "      <td>4.166470</td>\n",
              "      <td>4.194021</td>\n",
              "      <td>5.170000e+00</td>\n",
              "    </tr>\n",
              "    <tr>\n",
              "      <th>std</th>\n",
              "      <td>1.346872</td>\n",
              "      <td>1.355268</td>\n",
              "      <td>2.579104e-14</td>\n",
              "    </tr>\n",
              "    <tr>\n",
              "      <th>min</th>\n",
              "      <td>0.011000</td>\n",
              "      <td>0.013000</td>\n",
              "      <td>5.170000e+00</td>\n",
              "    </tr>\n",
              "    <tr>\n",
              "      <th>25%</th>\n",
              "      <td>4.261000</td>\n",
              "      <td>4.290000</td>\n",
              "      <td>5.170000e+00</td>\n",
              "    </tr>\n",
              "    <tr>\n",
              "      <th>50%</th>\n",
              "      <td>4.477000</td>\n",
              "      <td>4.508000</td>\n",
              "      <td>5.170000e+00</td>\n",
              "    </tr>\n",
              "    <tr>\n",
              "      <th>75%</th>\n",
              "      <td>5.113000</td>\n",
              "      <td>5.145000</td>\n",
              "      <td>5.170000e+00</td>\n",
              "    </tr>\n",
              "    <tr>\n",
              "      <th>max</th>\n",
              "      <td>5.453000</td>\n",
              "      <td>5.489000</td>\n",
              "      <td>5.170000e+00</td>\n",
              "    </tr>\n",
              "  </tbody>\n",
              "</table>\n",
              "</div>"
            ],
            "text/plain": [
              "              KWh        KVAh    Total Load\n",
              "count  381.000000  381.000000  3.810000e+02\n",
              "mean     4.166470    4.194021  5.170000e+00\n",
              "std      1.346872    1.355268  2.579104e-14\n",
              "min      0.011000    0.013000  5.170000e+00\n",
              "25%      4.261000    4.290000  5.170000e+00\n",
              "50%      4.477000    4.508000  5.170000e+00\n",
              "75%      5.113000    5.145000  5.170000e+00\n",
              "max      5.453000    5.489000  5.170000e+00"
            ]
          },
          "metadata": {
            "tags": []
          },
          "execution_count": 16
        }
      ]
    },
    {
      "cell_type": "code",
      "metadata": {
        "id": "lluJAfRnwagg",
        "colab_type": "code",
        "outputId": "754da58e-c312-4a7b-816b-95d212057d77",
        "colab": {
          "base_uri": "https://localhost:8080/",
          "height": 158
        }
      },
      "source": [
        "print(df.reset_index().dtypes)"
      ],
      "execution_count": 17,
      "outputs": [
        {
          "output_type": "stream",
          "text": [
            "index                  int64\n",
            "CCMS ID               object\n",
            "Timestamp     datetime64[ns]\n",
            "KWh                  float64\n",
            "KVAh                 float64\n",
            "PF Total              object\n",
            "Total Load           float64\n",
            "dtype: object\n"
          ],
          "name": "stdout"
        }
      ]
    },
    {
      "cell_type": "code",
      "metadata": {
        "id": "zbDawItbvZYs",
        "colab_type": "code",
        "outputId": "e1e70972-bc6d-4bce-aaea-d339243a0132",
        "colab": {
          "base_uri": "https://localhost:8080/",
          "height": 426
        }
      },
      "source": [
        "x_axis_timestamps = df.reset_index().Timestamp\n",
        "y_axis_kwh = df.KWh\n",
        "x_label = 'Timestamp'\n",
        "y_label = 'KWh'\n",
        "plt.xlabel(x_label)\n",
        "plt.ylabel(y_label)\n",
        "plt.scatter(x= x_axis_timestamps, y = y_axis_kwh)"
      ],
      "execution_count": 18,
      "outputs": [
        {
          "output_type": "stream",
          "text": [
            "/usr/local/lib/python3.6/dist-packages/pandas/plotting/_converter.py:129: FutureWarning: Using an implicitly registered datetime converter for a matplotlib plotting method. The converter was registered by pandas on import. Future versions of pandas will require you to explicitly register matplotlib converters.\n",
            "\n",
            "To register the converters:\n",
            "\t>>> from pandas.plotting import register_matplotlib_converters\n",
            "\t>>> register_matplotlib_converters()\n",
            "  warnings.warn(msg, FutureWarning)\n"
          ],
          "name": "stderr"
        },
        {
          "output_type": "execute_result",
          "data": {
            "text/plain": [
              "<matplotlib.collections.PathCollection at 0x7f4b55b021d0>"
            ]
          },
          "metadata": {
            "tags": []
          },
          "execution_count": 18
        },
        {
          "output_type": "display_data",
          "data": {
            "image/png": "[encoded data removed]",
            "text/plain": [
              "<Figure size 432x288 with 1 Axes>"
            ]
          },
          "metadata": {
            "tags": []
          }
        }
      ]
    },
    {
      "cell_type": "code",
      "metadata": {
        "id": "CZGtyxx2v2tJ",
        "colab_type": "code",
        "outputId": "5837d0fa-a0a2-4fd0-e36a-9825469e3497",
        "colab": {
          "base_uri": "https://localhost:8080/",
          "height": 612
        }
      },
      "source": [
        "plt.figure(figsize=(20,10))\n",
        "plt.scatter(x= x_axis_timestamps, y = y_axis_kwh)"
      ],
      "execution_count": 19,
      "outputs": [
        {
          "output_type": "execute_result",
          "data": {
            "text/plain": [
              "<matplotlib.collections.PathCollection at 0x7f4b55f31240>"
            ]
          },
          "metadata": {
            "tags": []
          },
          "execution_count": 19
        },
        {
          "output_type": "display_data",
          "data": {
            "image/png": "[encoded data removed]",
            "text/plain": [
              "<Figure size 1440x720 with 1 Axes>"
            ]
          },
          "metadata": {
            "tags": []
          }
        }
      ]
    }
  ]
}