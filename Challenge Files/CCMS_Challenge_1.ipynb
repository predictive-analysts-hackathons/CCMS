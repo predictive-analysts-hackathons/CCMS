{
  "nbformat": 4,
  "nbformat_minor": 0,
  "metadata": {
    "colab": {
      "name": "CCMS- Challenge 1.ipynb",
      "version": "0.3.2",
      "provenance": [],
      "collapsed_sections": []
    },
    "language_info": {
      "codemirror_mode": {
        "name": "ipython",
        "version": 3
      },
      "file_extension": ".py",
      "mimetype": "text/x-python",
      "name": "python",
      "nbconvert_exporter": "python",
      "pygments_lexer": "ipython3",
      "version": "3.6.8"
    },
    "kernelspec": {
      "display_name": "Python 3",
      "language": "python",
      "name": "python3"
    }
  },
  "cells": [
    {
      "cell_type": "markdown",
      "metadata": {
        "id": "j8qNL4ja61-y",
        "colab_type": "text"
      },
      "source": [
        "# **CCMS Analysis : Challlenge 1**\n",
        "### How to detect/  are not identify the defective/non-functional lights, numver of lights connected to a particular ccms that are not functioning and the wattage of these faulty lights."
      ]
    },
    {
      "cell_type": "markdown",
      "metadata": {
        "id": "x4SuNEeB61-2",
        "colab_type": "text"
      },
      "source": [
        "## 1. Importing the required libraries"
      ]
    },
    {
      "cell_type": "code",
      "metadata": {
        "id": "nyc9xFDK61-3",
        "colab_type": "code",
        "colab": {}
      },
      "source": [
        "#imports\n",
        "import pandas as pd\n",
        "import matplotlib.pyplot as plt\n",
        "import numpy as np\n",
        "import dateutil\n",
        "%matplotlib inline"
      ],
      "execution_count": 0,
      "outputs": []
    },
    {
      "cell_type": "code",
      "metadata": {
        "id": "JkNKIOxV7Sy_",
        "colab_type": "code",
        "outputId": "59b8cbfa-59fa-4a7d-e0a7-b7618bd115db",
        "colab": {
          "base_uri": "https://localhost:8080/",
          "height": 34
        }
      },
      "source": [
        "from google.colab import drive\n",
        "drive.mount('/content/drive')"
      ],
      "execution_count": 85,
      "outputs": [
        {
          "output_type": "stream",
          "text": [
            "Drive already mounted at /content/drive; to attempt to forcibly remount, call drive.mount(\"/content/drive\", force_remount=True).\n"
          ],
          "name": "stdout"
        }
      ]
    },
    {
      "cell_type": "markdown",
      "metadata": {
        "id": "QuD2J2IX61-_",
        "colab_type": "text"
      },
      "source": [
        "## 2. Loading the dataset"
      ]
    },
    {
      "cell_type": "code",
      "metadata": {
        "id": "d6t79yP661_B",
        "colab_type": "code",
        "colab": {}
      },
      "source": [
        "#reading file\n",
        "df = pd.read_excel(\"/content/drive/My Drive/Dummy data/Load Survey Data (6).xlsx\")"
      ],
      "execution_count": 0,
      "outputs": []
    },
    {
      "cell_type": "markdown",
      "metadata": {
        "id": "pYk02D2X61_I",
        "colab_type": "text"
      },
      "source": [
        "## 3. Data PreProcessing and cleaning"
      ]
    },
    {
      "cell_type": "code",
      "metadata": {
        "id": "jXAWho7k61_J",
        "colab_type": "code",
        "colab": {}
      },
      "source": [
        "#converting timestamp oject to datetime object\n",
        "df['Timestamp'] = pd.to_datetime(df.Timestamp)\n",
        "\n",
        "#list of columns to drop\n",
        "drop_columns = ['Vr (Volt)','Vy (Volt)','Vb (Volt)','Ir (Amp)','Iy (Amp)','Ib (Amp)','Freq (Hz)']\n",
        "\n",
        "#dropped columns dataframe\n",
        "df = df.drop(drop_columns,axis=1)\n",
        "\n",
        "#changing column names\n",
        "df.columns = ['CCMS','timestamp','kwh','kvah','pf_total','total_load']\n",
        "df['time_hour'] = df.timestamp.apply(lambda x: x.hour)"
      ],
      "execution_count": 0,
      "outputs": []
    },
    {
      "cell_type": "code",
      "metadata": {
        "id": "YBscM2zP61_P",
        "colab_type": "code",
        "outputId": "0fe3f44b-de42-454e-c829-d4fc388b34b3",
        "colab": {
          "base_uri": "https://localhost:8080/",
          "height": 70
        }
      },
      "source": [
        "df.columns"
      ],
      "execution_count": 88,
      "outputs": [
        {
          "output_type": "execute_result",
          "data": {
            "text/plain": [
              "Index(['CCMS', 'timestamp', 'kwh', 'kvah', 'pf_total', 'total_load',\n",
              "       'time_hour'],\n",
              "      dtype='object')"
            ]
          },
          "metadata": {
            "tags": []
          },
          "execution_count": 88
        }
      ]
    },
    {
      "cell_type": "code",
      "metadata": {
        "scrolled": true,
        "id": "UAObTur561_b",
        "colab_type": "code",
        "outputId": "1a18a505-81bc-46d3-ef55-b306f3e01f20",
        "colab": {
          "base_uri": "https://localhost:8080/",
          "height": 158
        }
      },
      "source": [
        "df.dtypes"
      ],
      "execution_count": 89,
      "outputs": [
        {
          "output_type": "execute_result",
          "data": {
            "text/plain": [
              "CCMS                  object\n",
              "timestamp     datetime64[ns]\n",
              "kwh                  float64\n",
              "kvah                 float64\n",
              "pf_total              object\n",
              "total_load           float64\n",
              "time_hour              int64\n",
              "dtype: object"
            ]
          },
          "metadata": {
            "tags": []
          },
          "execution_count": 89
        }
      ]
    },
    {
      "cell_type": "code",
      "metadata": {
        "id": "F8eTXbAQ61_j",
        "colab_type": "code",
        "outputId": "f3a8cd28-6401-483e-c194-adc1a9f5af5f",
        "colab": {
          "base_uri": "https://localhost:8080/",
          "height": 197
        }
      },
      "source": [
        "df.head()"
      ],
      "execution_count": 90,
      "outputs": [
        {
          "output_type": "execute_result",
          "data": {
            "text/html": [
              "<div>\n",
              "<style scoped>\n",
              "    .dataframe tbody tr th:only-of-type {\n",
              "        vertical-align: middle;\n",
              "    }\n",
              "\n",
              "    .dataframe tbody tr th {\n",
              "        vertical-align: top;\n",
              "    }\n",
              "\n",
              "    .dataframe thead th {\n",
              "        text-align: right;\n",
              "    }\n",
              "</style>\n",
              "<table border=\"1\" class=\"dataframe\">\n",
              "  <thead>\n",
              "    <tr style=\"text-align: right;\">\n",
              "      <th></th>\n",
              "      <th>CCMS</th>\n",
              "      <th>timestamp</th>\n",
              "      <th>kwh</th>\n",
              "      <th>kvah</th>\n",
              "      <th>pf_total</th>\n",
              "      <th>total_load</th>\n",
              "      <th>time_hour</th>\n",
              "    </tr>\n",
              "  </thead>\n",
              "  <tbody>\n",
              "    <tr>\n",
              "      <th>0</th>\n",
              "      <td>SMR03-0219-0252</td>\n",
              "      <td>2019-05-01 23:00:00</td>\n",
              "      <td>2.732</td>\n",
              "      <td>2.752</td>\n",
              "      <td>0.955  Ld</td>\n",
              "      <td>5.17</td>\n",
              "      <td>23</td>\n",
              "    </tr>\n",
              "    <tr>\n",
              "      <th>1</th>\n",
              "      <td>SMR03-0219-0252</td>\n",
              "      <td>2019-05-01 22:00:00</td>\n",
              "      <td>5.108</td>\n",
              "      <td>5.143</td>\n",
              "      <td>0.987  Ld</td>\n",
              "      <td>5.17</td>\n",
              "      <td>22</td>\n",
              "    </tr>\n",
              "    <tr>\n",
              "      <th>2</th>\n",
              "      <td>SMR03-0219-0252</td>\n",
              "      <td>2019-05-01 21:00:00</td>\n",
              "      <td>5.120</td>\n",
              "      <td>5.156</td>\n",
              "      <td>0.987  Ld</td>\n",
              "      <td>5.17</td>\n",
              "      <td>21</td>\n",
              "    </tr>\n",
              "    <tr>\n",
              "      <th>3</th>\n",
              "      <td>SMR03-0219-0252</td>\n",
              "      <td>2019-05-01 20:00:00</td>\n",
              "      <td>4.985</td>\n",
              "      <td>5.025</td>\n",
              "      <td>0.985  Ld</td>\n",
              "      <td>5.17</td>\n",
              "      <td>20</td>\n",
              "    </tr>\n",
              "    <tr>\n",
              "      <th>4</th>\n",
              "      <td>SMR03-0219-0252</td>\n",
              "      <td>2019-05-01 19:00:00</td>\n",
              "      <td>0.372</td>\n",
              "      <td>0.375</td>\n",
              "      <td>0.87  Lag</td>\n",
              "      <td>5.17</td>\n",
              "      <td>19</td>\n",
              "    </tr>\n",
              "  </tbody>\n",
              "</table>\n",
              "</div>"
            ],
            "text/plain": [
              "              CCMS           timestamp    kwh  ...   pf_total total_load  time_hour\n",
              "0  SMR03-0219-0252 2019-05-01 23:00:00  2.732  ...  0.955  Ld       5.17         23\n",
              "1  SMR03-0219-0252 2019-05-01 22:00:00  5.108  ...  0.987  Ld       5.17         22\n",
              "2  SMR03-0219-0252 2019-05-01 21:00:00  5.120  ...  0.987  Ld       5.17         21\n",
              "3  SMR03-0219-0252 2019-05-01 20:00:00  4.985  ...  0.985  Ld       5.17         20\n",
              "4  SMR03-0219-0252 2019-05-01 19:00:00  0.372  ...  0.87  Lag       5.17         19\n",
              "\n",
              "[5 rows x 7 columns]"
            ]
          },
          "metadata": {
            "tags": []
          },
          "execution_count": 90
        }
      ]
    },
    {
      "cell_type": "markdown",
      "metadata": {
        "id": "RrqoUgGH61_s",
        "colab_type": "text"
      },
      "source": [
        "## Basic data description"
      ]
    },
    {
      "cell_type": "code",
      "metadata": {
        "id": "DbwDfphO61_v",
        "colab_type": "code",
        "outputId": "ba05a92f-a089-479f-fb9c-34a664d3510d",
        "colab": {
          "base_uri": "https://localhost:8080/",
          "height": 287
        }
      },
      "source": [
        "df.describe()"
      ],
      "execution_count": 100,
      "outputs": [
        {
          "output_type": "execute_result",
          "data": {
            "text/html": [
              "<div>\n",
              "<style scoped>\n",
              "    .dataframe tbody tr th:only-of-type {\n",
              "        vertical-align: middle;\n",
              "    }\n",
              "\n",
              "    .dataframe tbody tr th {\n",
              "        vertical-align: top;\n",
              "    }\n",
              "\n",
              "    .dataframe thead th {\n",
              "        text-align: right;\n",
              "    }\n",
              "</style>\n",
              "<table border=\"1\" class=\"dataframe\">\n",
              "  <thead>\n",
              "    <tr style=\"text-align: right;\">\n",
              "      <th></th>\n",
              "      <th>kwh</th>\n",
              "      <th>kvah</th>\n",
              "      <th>total_load</th>\n",
              "      <th>time_hour</th>\n",
              "    </tr>\n",
              "  </thead>\n",
              "  <tbody>\n",
              "    <tr>\n",
              "      <th>count</th>\n",
              "      <td>742.000000</td>\n",
              "      <td>742.000000</td>\n",
              "      <td>7.420000e+02</td>\n",
              "      <td>742.000000</td>\n",
              "    </tr>\n",
              "    <tr>\n",
              "      <th>mean</th>\n",
              "      <td>2.139387</td>\n",
              "      <td>2.153534</td>\n",
              "      <td>5.170000e+00</td>\n",
              "      <td>11.505391</td>\n",
              "    </tr>\n",
              "    <tr>\n",
              "      <th>std</th>\n",
              "      <td>2.296270</td>\n",
              "      <td>2.311301</td>\n",
              "      <td>4.799399e-14</td>\n",
              "      <td>6.935356</td>\n",
              "    </tr>\n",
              "    <tr>\n",
              "      <th>min</th>\n",
              "      <td>0.000000</td>\n",
              "      <td>0.000000</td>\n",
              "      <td>5.170000e+00</td>\n",
              "      <td>0.000000</td>\n",
              "    </tr>\n",
              "    <tr>\n",
              "      <th>25%</th>\n",
              "      <td>0.000000</td>\n",
              "      <td>0.000000</td>\n",
              "      <td>5.170000e+00</td>\n",
              "      <td>5.250000</td>\n",
              "    </tr>\n",
              "    <tr>\n",
              "      <th>50%</th>\n",
              "      <td>0.480000</td>\n",
              "      <td>0.484000</td>\n",
              "      <td>5.170000e+00</td>\n",
              "      <td>12.000000</td>\n",
              "    </tr>\n",
              "    <tr>\n",
              "      <th>75%</th>\n",
              "      <td>4.493000</td>\n",
              "      <td>4.520000</td>\n",
              "      <td>5.170000e+00</td>\n",
              "      <td>17.750000</td>\n",
              "    </tr>\n",
              "    <tr>\n",
              "      <th>max</th>\n",
              "      <td>5.453000</td>\n",
              "      <td>5.489000</td>\n",
              "      <td>5.170000e+00</td>\n",
              "      <td>23.000000</td>\n",
              "    </tr>\n",
              "  </tbody>\n",
              "</table>\n",
              "</div>"
            ],
            "text/plain": [
              "              kwh        kvah    total_load   time_hour\n",
              "count  742.000000  742.000000  7.420000e+02  742.000000\n",
              "mean     2.139387    2.153534  5.170000e+00   11.505391\n",
              "std      2.296270    2.311301  4.799399e-14    6.935356\n",
              "min      0.000000    0.000000  5.170000e+00    0.000000\n",
              "25%      0.000000    0.000000  5.170000e+00    5.250000\n",
              "50%      0.480000    0.484000  5.170000e+00   12.000000\n",
              "75%      4.493000    4.520000  5.170000e+00   17.750000\n",
              "max      5.453000    5.489000  5.170000e+00   23.000000"
            ]
          },
          "metadata": {
            "tags": []
          },
          "execution_count": 100
        }
      ]
    },
    {
      "cell_type": "code",
      "metadata": {
        "id": "PGkGgxt961_4",
        "colab_type": "code",
        "outputId": "c0b37e37-00b2-4188-dd7f-cf40143e055c",
        "colab": {
          "base_uri": "https://localhost:8080/",
          "height": 197
        }
      },
      "source": [
        "df.head()"
      ],
      "execution_count": 92,
      "outputs": [
        {
          "output_type": "execute_result",
          "data": {
            "text/html": [
              "<div>\n",
              "<style scoped>\n",
              "    .dataframe tbody tr th:only-of-type {\n",
              "        vertical-align: middle;\n",
              "    }\n",
              "\n",
              "    .dataframe tbody tr th {\n",
              "        vertical-align: top;\n",
              "    }\n",
              "\n",
              "    .dataframe thead th {\n",
              "        text-align: right;\n",
              "    }\n",
              "</style>\n",
              "<table border=\"1\" class=\"dataframe\">\n",
              "  <thead>\n",
              "    <tr style=\"text-align: right;\">\n",
              "      <th></th>\n",
              "      <th>CCMS</th>\n",
              "      <th>timestamp</th>\n",
              "      <th>kwh</th>\n",
              "      <th>kvah</th>\n",
              "      <th>pf_total</th>\n",
              "      <th>total_load</th>\n",
              "      <th>time_hour</th>\n",
              "    </tr>\n",
              "  </thead>\n",
              "  <tbody>\n",
              "    <tr>\n",
              "      <th>0</th>\n",
              "      <td>SMR03-0219-0252</td>\n",
              "      <td>2019-05-01 23:00:00</td>\n",
              "      <td>2.732</td>\n",
              "      <td>2.752</td>\n",
              "      <td>0.955  Ld</td>\n",
              "      <td>5.17</td>\n",
              "      <td>23</td>\n",
              "    </tr>\n",
              "    <tr>\n",
              "      <th>1</th>\n",
              "      <td>SMR03-0219-0252</td>\n",
              "      <td>2019-05-01 22:00:00</td>\n",
              "      <td>5.108</td>\n",
              "      <td>5.143</td>\n",
              "      <td>0.987  Ld</td>\n",
              "      <td>5.17</td>\n",
              "      <td>22</td>\n",
              "    </tr>\n",
              "    <tr>\n",
              "      <th>2</th>\n",
              "      <td>SMR03-0219-0252</td>\n",
              "      <td>2019-05-01 21:00:00</td>\n",
              "      <td>5.120</td>\n",
              "      <td>5.156</td>\n",
              "      <td>0.987  Ld</td>\n",
              "      <td>5.17</td>\n",
              "      <td>21</td>\n",
              "    </tr>\n",
              "    <tr>\n",
              "      <th>3</th>\n",
              "      <td>SMR03-0219-0252</td>\n",
              "      <td>2019-05-01 20:00:00</td>\n",
              "      <td>4.985</td>\n",
              "      <td>5.025</td>\n",
              "      <td>0.985  Ld</td>\n",
              "      <td>5.17</td>\n",
              "      <td>20</td>\n",
              "    </tr>\n",
              "    <tr>\n",
              "      <th>4</th>\n",
              "      <td>SMR03-0219-0252</td>\n",
              "      <td>2019-05-01 19:00:00</td>\n",
              "      <td>0.372</td>\n",
              "      <td>0.375</td>\n",
              "      <td>0.87  Lag</td>\n",
              "      <td>5.17</td>\n",
              "      <td>19</td>\n",
              "    </tr>\n",
              "  </tbody>\n",
              "</table>\n",
              "</div>"
            ],
            "text/plain": [
              "              CCMS           timestamp    kwh  ...   pf_total total_load  time_hour\n",
              "0  SMR03-0219-0252 2019-05-01 23:00:00  2.732  ...  0.955  Ld       5.17         23\n",
              "1  SMR03-0219-0252 2019-05-01 22:00:00  5.108  ...  0.987  Ld       5.17         22\n",
              "2  SMR03-0219-0252 2019-05-01 21:00:00  5.120  ...  0.987  Ld       5.17         21\n",
              "3  SMR03-0219-0252 2019-05-01 20:00:00  4.985  ...  0.985  Ld       5.17         20\n",
              "4  SMR03-0219-0252 2019-05-01 19:00:00  0.372  ...  0.87  Lag       5.17         19\n",
              "\n",
              "[5 rows x 7 columns]"
            ]
          },
          "metadata": {
            "tags": []
          },
          "execution_count": 92
        }
      ]
    },
    {
      "cell_type": "markdown",
      "metadata": {
        "id": "vUm0XfGN62AY",
        "colab_type": "text"
      },
      "source": [
        "## Multiple analysis (sub analysis)\n",
        "-  Time period when the street lights are off (plot using bar chart)\n",
        "-  Random fluctuations of streetlights due to various reason like powercut etc (plot using scatter plot)\n",
        "-  streetlights pulling load lesser than the mean threshhold value (average KW/hr consumption +- std deviation)"
      ]
    },
    {
      "cell_type": "markdown",
      "metadata": {
        "id": "K8GVXVua62AA",
        "colab_type": "text"
      },
      "source": [
        "## CCMS off_time and uptime dataframes"
      ]
    },
    {
      "cell_type": "markdown",
      "metadata": {
        "id": "ORUQZF1KOF2K",
        "colab_type": "text"
      },
      "source": [
        "- In this section we will explore the dataset to find the duration of uptime and downtimes of the ccms "
      ]
    },
    {
      "cell_type": "markdown",
      "metadata": {
        "id": "cwUQmpXO62AC",
        "colab_type": "text"
      },
      "source": [
        "### CCMS off-time_values (excluding faulty values)"
      ]
    },
    {
      "cell_type": "code",
      "metadata": {
        "scrolled": true,
        "id": "tFTsh6wN62AF",
        "colab_type": "code",
        "colab": {}
      },
      "source": [
        "off_time_df = df[df.time_hour >= 8]\n",
        "off_time_df = off_time_df[off_time_df.time_hour <= 17]\n",
        "#off_time_df.describe()"
      ],
      "execution_count": 0,
      "outputs": []
    },
    {
      "cell_type": "code",
      "metadata": {
        "id": "KnvmLvgW7s16",
        "colab_type": "code",
        "outputId": "8b1bee4f-3464-447c-9d14-bc56bfe83e01",
        "colab": {
          "base_uri": "https://localhost:8080/",
          "height": 197
        }
      },
      "source": [
        "off_time_df.head()"
      ],
      "execution_count": 94,
      "outputs": [
        {
          "output_type": "execute_result",
          "data": {
            "text/html": [
              "<div>\n",
              "<style scoped>\n",
              "    .dataframe tbody tr th:only-of-type {\n",
              "        vertical-align: middle;\n",
              "    }\n",
              "\n",
              "    .dataframe tbody tr th {\n",
              "        vertical-align: top;\n",
              "    }\n",
              "\n",
              "    .dataframe thead th {\n",
              "        text-align: right;\n",
              "    }\n",
              "</style>\n",
              "<table border=\"1\" class=\"dataframe\">\n",
              "  <thead>\n",
              "    <tr style=\"text-align: right;\">\n",
              "      <th></th>\n",
              "      <th>CCMS</th>\n",
              "      <th>timestamp</th>\n",
              "      <th>kwh</th>\n",
              "      <th>kvah</th>\n",
              "      <th>pf_total</th>\n",
              "      <th>total_load</th>\n",
              "      <th>time_hour</th>\n",
              "    </tr>\n",
              "  </thead>\n",
              "  <tbody>\n",
              "    <tr>\n",
              "      <th>6</th>\n",
              "      <td>SMR03-0219-0252</td>\n",
              "      <td>2019-05-01 17:00:00</td>\n",
              "      <td>0.0</td>\n",
              "      <td>0.0</td>\n",
              "      <td>--</td>\n",
              "      <td>5.17</td>\n",
              "      <td>17</td>\n",
              "    </tr>\n",
              "    <tr>\n",
              "      <th>7</th>\n",
              "      <td>SMR03-0219-0252</td>\n",
              "      <td>2019-05-01 16:00:00</td>\n",
              "      <td>0.0</td>\n",
              "      <td>0.0</td>\n",
              "      <td>--</td>\n",
              "      <td>5.17</td>\n",
              "      <td>16</td>\n",
              "    </tr>\n",
              "    <tr>\n",
              "      <th>8</th>\n",
              "      <td>SMR03-0219-0252</td>\n",
              "      <td>2019-05-01 15:00:00</td>\n",
              "      <td>0.0</td>\n",
              "      <td>0.0</td>\n",
              "      <td>--</td>\n",
              "      <td>5.17</td>\n",
              "      <td>15</td>\n",
              "    </tr>\n",
              "    <tr>\n",
              "      <th>9</th>\n",
              "      <td>SMR03-0219-0252</td>\n",
              "      <td>2019-05-01 14:00:00</td>\n",
              "      <td>0.0</td>\n",
              "      <td>0.0</td>\n",
              "      <td>--</td>\n",
              "      <td>5.17</td>\n",
              "      <td>14</td>\n",
              "    </tr>\n",
              "    <tr>\n",
              "      <th>10</th>\n",
              "      <td>SMR03-0219-0252</td>\n",
              "      <td>2019-05-01 13:00:00</td>\n",
              "      <td>0.0</td>\n",
              "      <td>0.0</td>\n",
              "      <td>--</td>\n",
              "      <td>5.17</td>\n",
              "      <td>13</td>\n",
              "    </tr>\n",
              "  </tbody>\n",
              "</table>\n",
              "</div>"
            ],
            "text/plain": [
              "               CCMS           timestamp  kwh  ...  pf_total total_load  time_hour\n",
              "6   SMR03-0219-0252 2019-05-01 17:00:00  0.0  ...        --       5.17         17\n",
              "7   SMR03-0219-0252 2019-05-01 16:00:00  0.0  ...        --       5.17         16\n",
              "8   SMR03-0219-0252 2019-05-01 15:00:00  0.0  ...        --       5.17         15\n",
              "9   SMR03-0219-0252 2019-05-01 14:00:00  0.0  ...        --       5.17         14\n",
              "10  SMR03-0219-0252 2019-05-01 13:00:00  0.0  ...        --       5.17         13\n",
              "\n",
              "[5 rows x 7 columns]"
            ]
          },
          "metadata": {
            "tags": []
          },
          "execution_count": 94
        }
      ]
    },
    {
      "cell_type": "markdown",
      "metadata": {
        "id": "BYEFs98u62AN",
        "colab_type": "text"
      },
      "source": [
        "### CCMS uptime_values (including faulty values)"
      ]
    },
    {
      "cell_type": "code",
      "metadata": {
        "id": "V7dDXDmV62AP",
        "colab_type": "code",
        "outputId": "6a766390-d5f8-4a32-bd87-ad8115fe5b09",
        "colab": {
          "base_uri": "https://localhost:8080/",
          "height": 197
        }
      },
      "source": [
        "on_time_df = df[(df.time_hour >= 18) | (df.time_hour <= 7)]\n",
        "#on_time_df.describe()\n",
        "on_time_df.head()"
      ],
      "execution_count": 95,
      "outputs": [
        {
          "output_type": "execute_result",
          "data": {
            "text/html": [
              "<div>\n",
              "<style scoped>\n",
              "    .dataframe tbody tr th:only-of-type {\n",
              "        vertical-align: middle;\n",
              "    }\n",
              "\n",
              "    .dataframe tbody tr th {\n",
              "        vertical-align: top;\n",
              "    }\n",
              "\n",
              "    .dataframe thead th {\n",
              "        text-align: right;\n",
              "    }\n",
              "</style>\n",
              "<table border=\"1\" class=\"dataframe\">\n",
              "  <thead>\n",
              "    <tr style=\"text-align: right;\">\n",
              "      <th></th>\n",
              "      <th>CCMS</th>\n",
              "      <th>timestamp</th>\n",
              "      <th>kwh</th>\n",
              "      <th>kvah</th>\n",
              "      <th>pf_total</th>\n",
              "      <th>total_load</th>\n",
              "      <th>time_hour</th>\n",
              "    </tr>\n",
              "  </thead>\n",
              "  <tbody>\n",
              "    <tr>\n",
              "      <th>0</th>\n",
              "      <td>SMR03-0219-0252</td>\n",
              "      <td>2019-05-01 23:00:00</td>\n",
              "      <td>2.732</td>\n",
              "      <td>2.752</td>\n",
              "      <td>0.955  Ld</td>\n",
              "      <td>5.17</td>\n",
              "      <td>23</td>\n",
              "    </tr>\n",
              "    <tr>\n",
              "      <th>1</th>\n",
              "      <td>SMR03-0219-0252</td>\n",
              "      <td>2019-05-01 22:00:00</td>\n",
              "      <td>5.108</td>\n",
              "      <td>5.143</td>\n",
              "      <td>0.987  Ld</td>\n",
              "      <td>5.17</td>\n",
              "      <td>22</td>\n",
              "    </tr>\n",
              "    <tr>\n",
              "      <th>2</th>\n",
              "      <td>SMR03-0219-0252</td>\n",
              "      <td>2019-05-01 21:00:00</td>\n",
              "      <td>5.120</td>\n",
              "      <td>5.156</td>\n",
              "      <td>0.987  Ld</td>\n",
              "      <td>5.17</td>\n",
              "      <td>21</td>\n",
              "    </tr>\n",
              "    <tr>\n",
              "      <th>3</th>\n",
              "      <td>SMR03-0219-0252</td>\n",
              "      <td>2019-05-01 20:00:00</td>\n",
              "      <td>4.985</td>\n",
              "      <td>5.025</td>\n",
              "      <td>0.985  Ld</td>\n",
              "      <td>5.17</td>\n",
              "      <td>20</td>\n",
              "    </tr>\n",
              "    <tr>\n",
              "      <th>4</th>\n",
              "      <td>SMR03-0219-0252</td>\n",
              "      <td>2019-05-01 19:00:00</td>\n",
              "      <td>0.372</td>\n",
              "      <td>0.375</td>\n",
              "      <td>0.87  Lag</td>\n",
              "      <td>5.17</td>\n",
              "      <td>19</td>\n",
              "    </tr>\n",
              "  </tbody>\n",
              "</table>\n",
              "</div>"
            ],
            "text/plain": [
              "              CCMS           timestamp    kwh  ...   pf_total total_load  time_hour\n",
              "0  SMR03-0219-0252 2019-05-01 23:00:00  2.732  ...  0.955  Ld       5.17         23\n",
              "1  SMR03-0219-0252 2019-05-01 22:00:00  5.108  ...  0.987  Ld       5.17         22\n",
              "2  SMR03-0219-0252 2019-05-01 21:00:00  5.120  ...  0.987  Ld       5.17         21\n",
              "3  SMR03-0219-0252 2019-05-01 20:00:00  4.985  ...  0.985  Ld       5.17         20\n",
              "4  SMR03-0219-0252 2019-05-01 19:00:00  0.372  ...  0.87  Lag       5.17         19\n",
              "\n",
              "[5 rows x 7 columns]"
            ]
          },
          "metadata": {
            "tags": []
          },
          "execution_count": 95
        }
      ]
    },
    {
      "cell_type": "markdown",
      "metadata": {
        "id": "UFAbygwH62Ab",
        "colab_type": "text"
      },
      "source": [
        "### Time period where lights were off when it should have been on during uptime duration!\n",
        "* Can be down due to external factors eg. light outage, etc.\n",
        "* Something is faulty/ not working as expected"
      ]
    },
    {
      "cell_type": "code",
      "metadata": {
        "id": "IcmUpK9W62Ae",
        "colab_type": "code",
        "outputId": "4b1de25c-7d27-4e4b-eee0-49a7106fcfa7",
        "colab": {
          "base_uri": "https://localhost:8080/",
          "height": 137
        }
      },
      "source": [
        "faulty_values = on_time_df[(on_time_df.kwh == 0) & (on_time_df.time_hour != 18) & (on_time_df.time_hour != 7)]\n",
        "faulty_values.head()"
      ],
      "execution_count": 96,
      "outputs": [
        {
          "output_type": "execute_result",
          "data": {
            "text/html": [
              "<div>\n",
              "<style scoped>\n",
              "    .dataframe tbody tr th:only-of-type {\n",
              "        vertical-align: middle;\n",
              "    }\n",
              "\n",
              "    .dataframe tbody tr th {\n",
              "        vertical-align: top;\n",
              "    }\n",
              "\n",
              "    .dataframe thead th {\n",
              "        text-align: right;\n",
              "    }\n",
              "</style>\n",
              "<table border=\"1\" class=\"dataframe\">\n",
              "  <thead>\n",
              "    <tr style=\"text-align: right;\">\n",
              "      <th></th>\n",
              "      <th>CCMS</th>\n",
              "      <th>timestamp</th>\n",
              "      <th>kwh</th>\n",
              "      <th>kvah</th>\n",
              "      <th>pf_total</th>\n",
              "      <th>total_load</th>\n",
              "      <th>time_hour</th>\n",
              "    </tr>\n",
              "  </thead>\n",
              "  <tbody>\n",
              "    <tr>\n",
              "      <th>355</th>\n",
              "      <td>SMR03-0219-0252</td>\n",
              "      <td>2019-04-17 02:00:00</td>\n",
              "      <td>0.0</td>\n",
              "      <td>0.0</td>\n",
              "      <td>--</td>\n",
              "      <td>5.17</td>\n",
              "      <td>2</td>\n",
              "    </tr>\n",
              "    <tr>\n",
              "      <th>356</th>\n",
              "      <td>SMR03-0219-0252</td>\n",
              "      <td>2019-04-17 01:00:00</td>\n",
              "      <td>0.0</td>\n",
              "      <td>0.0</td>\n",
              "      <td>--</td>\n",
              "      <td>5.17</td>\n",
              "      <td>1</td>\n",
              "    </tr>\n",
              "    <tr>\n",
              "      <th>379</th>\n",
              "      <td>SMR03-0219-0252</td>\n",
              "      <td>2019-04-16 02:00:00</td>\n",
              "      <td>0.0</td>\n",
              "      <td>0.0</td>\n",
              "      <td>--</td>\n",
              "      <td>5.17</td>\n",
              "      <td>2</td>\n",
              "    </tr>\n",
              "  </tbody>\n",
              "</table>\n",
              "</div>"
            ],
            "text/plain": [
              "                CCMS           timestamp  kwh  ...  pf_total total_load  time_hour\n",
              "355  SMR03-0219-0252 2019-04-17 02:00:00  0.0  ...        --       5.17          2\n",
              "356  SMR03-0219-0252 2019-04-17 01:00:00  0.0  ...        --       5.17          1\n",
              "379  SMR03-0219-0252 2019-04-16 02:00:00  0.0  ...        --       5.17          2\n",
              "\n",
              "[3 rows x 7 columns]"
            ]
          },
          "metadata": {
            "tags": []
          },
          "execution_count": 96
        }
      ]
    },
    {
      "cell_type": "markdown",
      "metadata": {
        "id": "BBvz2kq9SvBW",
        "colab_type": "text"
      },
      "source": [
        "* here we can conclude that the ccms has not logged the data due to power outage/grid outage"
      ]
    },
    {
      "cell_type": "markdown",
      "metadata": {
        "id": "8SNB-ydKOw4f",
        "colab_type": "text"
      },
      "source": [
        "## After adding sensors to streetlights and connecting them to CCMS to send data to the server"
      ]
    },
    {
      "cell_type": "code",
      "metadata": {
        "id": "M14j_JMyOvO4",
        "colab_type": "code",
        "colab": {
          "base_uri": "https://localhost:8080/",
          "height": 34
        },
        "outputId": "8941035f-bbb9-4010-c80b-b6be040a7518"
      },
      "source": [
        "df_new = pd.read_excel(\"/content/drive/My Drive/Dummy data/Untitled spreadsheet.xlsx\")\n",
        "df_new.columns "
      ],
      "execution_count": 97,
      "outputs": [
        {
          "output_type": "execute_result",
          "data": {
            "text/plain": [
              "Index(['CCMS ID', 'SL ID', 'Current', 'Voltage', 'Resistance', 'Power'], dtype='object')"
            ]
          },
          "metadata": {
            "tags": []
          },
          "execution_count": 97
        }
      ]
    },
    {
      "cell_type": "code",
      "metadata": {
        "id": "nxFESSgmO1T3",
        "colab_type": "code",
        "colab": {
          "base_uri": "https://localhost:8080/",
          "height": 437
        },
        "outputId": "d8863208-fe95-4b04-82fa-036af3015dbf"
      },
      "source": [
        "df_new.columns = ['ccms','slid','current','voltage','resistance','power']\n",
        "df_new"
      ],
      "execution_count": 107,
      "outputs": [
        {
          "output_type": "execute_result",
          "data": {
            "text/html": [
              "<div>\n",
              "<style scoped>\n",
              "    .dataframe tbody tr th:only-of-type {\n",
              "        vertical-align: middle;\n",
              "    }\n",
              "\n",
              "    .dataframe tbody tr th {\n",
              "        vertical-align: top;\n",
              "    }\n",
              "\n",
              "    .dataframe thead th {\n",
              "        text-align: right;\n",
              "    }\n",
              "</style>\n",
              "<table border=\"1\" class=\"dataframe\">\n",
              "  <thead>\n",
              "    <tr style=\"text-align: right;\">\n",
              "      <th></th>\n",
              "      <th>ccms</th>\n",
              "      <th>slid</th>\n",
              "      <th>current</th>\n",
              "      <th>voltage</th>\n",
              "      <th>resistance</th>\n",
              "      <th>power</th>\n",
              "    </tr>\n",
              "  </thead>\n",
              "  <tbody>\n",
              "    <tr>\n",
              "      <th>0</th>\n",
              "      <td>a</td>\n",
              "      <td>1</td>\n",
              "      <td>2</td>\n",
              "      <td>2</td>\n",
              "      <td>4.00</td>\n",
              "      <td>1</td>\n",
              "    </tr>\n",
              "    <tr>\n",
              "      <th>1</th>\n",
              "      <td>a</td>\n",
              "      <td>2</td>\n",
              "      <td>4</td>\n",
              "      <td>25</td>\n",
              "      <td>6.25</td>\n",
              "      <td>100</td>\n",
              "    </tr>\n",
              "    <tr>\n",
              "      <th>2</th>\n",
              "      <td>a</td>\n",
              "      <td>3</td>\n",
              "      <td>2</td>\n",
              "      <td>2</td>\n",
              "      <td>4.00</td>\n",
              "      <td>1</td>\n",
              "    </tr>\n",
              "    <tr>\n",
              "      <th>3</th>\n",
              "      <td>a</td>\n",
              "      <td>4</td>\n",
              "      <td>2</td>\n",
              "      <td>2</td>\n",
              "      <td>4.00</td>\n",
              "      <td>1</td>\n",
              "    </tr>\n",
              "    <tr>\n",
              "      <th>4</th>\n",
              "      <td>a</td>\n",
              "      <td>5</td>\n",
              "      <td>2</td>\n",
              "      <td>2</td>\n",
              "      <td>4.00</td>\n",
              "      <td>1</td>\n",
              "    </tr>\n",
              "    <tr>\n",
              "      <th>5</th>\n",
              "      <td>a</td>\n",
              "      <td>6</td>\n",
              "      <td>2</td>\n",
              "      <td>2</td>\n",
              "      <td>4.00</td>\n",
              "      <td>1</td>\n",
              "    </tr>\n",
              "    <tr>\n",
              "      <th>6</th>\n",
              "      <td>a</td>\n",
              "      <td>7</td>\n",
              "      <td>2</td>\n",
              "      <td>2</td>\n",
              "      <td>4.00</td>\n",
              "      <td>1</td>\n",
              "    </tr>\n",
              "    <tr>\n",
              "      <th>7</th>\n",
              "      <td>a</td>\n",
              "      <td>8</td>\n",
              "      <td>2</td>\n",
              "      <td>2</td>\n",
              "      <td>4.00</td>\n",
              "      <td>1</td>\n",
              "    </tr>\n",
              "    <tr>\n",
              "      <th>8</th>\n",
              "      <td>a</td>\n",
              "      <td>9</td>\n",
              "      <td>2</td>\n",
              "      <td>2</td>\n",
              "      <td>4.00</td>\n",
              "      <td>1</td>\n",
              "    </tr>\n",
              "    <tr>\n",
              "      <th>9</th>\n",
              "      <td>a</td>\n",
              "      <td>10</td>\n",
              "      <td>2</td>\n",
              "      <td>2</td>\n",
              "      <td>4.00</td>\n",
              "      <td>1</td>\n",
              "    </tr>\n",
              "    <tr>\n",
              "      <th>10</th>\n",
              "      <td>a</td>\n",
              "      <td>11</td>\n",
              "      <td>2</td>\n",
              "      <td>2</td>\n",
              "      <td>4.00</td>\n",
              "      <td>1</td>\n",
              "    </tr>\n",
              "    <tr>\n",
              "      <th>11</th>\n",
              "      <td>a</td>\n",
              "      <td>12</td>\n",
              "      <td>2</td>\n",
              "      <td>2</td>\n",
              "      <td>4.00</td>\n",
              "      <td>1</td>\n",
              "    </tr>\n",
              "    <tr>\n",
              "      <th>12</th>\n",
              "      <td>a</td>\n",
              "      <td>13</td>\n",
              "      <td>2</td>\n",
              "      <td>2</td>\n",
              "      <td>4.00</td>\n",
              "      <td>1</td>\n",
              "    </tr>\n",
              "  </tbody>\n",
              "</table>\n",
              "</div>"
            ],
            "text/plain": [
              "   ccms  slid  current  voltage  resistance  power\n",
              "0     a     1        2        2        4.00      1\n",
              "1     a     2        4       25        6.25    100\n",
              "2     a     3        2        2        4.00      1\n",
              "3     a     4        2        2        4.00      1\n",
              "4     a     5        2        2        4.00      1\n",
              "5     a     6        2        2        4.00      1\n",
              "6     a     7        2        2        4.00      1\n",
              "7     a     8        2        2        4.00      1\n",
              "8     a     9        2        2        4.00      1\n",
              "9     a    10        2        2        4.00      1\n",
              "10    a    11        2        2        4.00      1\n",
              "11    a    12        2        2        4.00      1\n",
              "12    a    13        2        2        4.00      1"
            ]
          },
          "metadata": {
            "tags": []
          },
          "execution_count": 107
        }
      ]
    },
    {
      "cell_type": "code",
      "metadata": {
        "id": "s5MryjSbO8ve",
        "colab_type": "code",
        "colab": {}
      },
      "source": [
        "ccms_fault =[]\n",
        "slid_fault = []\n",
        "for index,row in df_new.iterrows():\n",
        "    if row.power >= (df_new.power.mean()+df_new.power.std()) or row.power <= (df_new.power.mean()-df_new.power.std()):\n",
        "        ccms_fault.append(row.ccms)\n",
        "        slid_fault.append(row.slid)"
      ],
      "execution_count": 0,
      "outputs": []
    },
    {
      "cell_type": "code",
      "metadata": {
        "id": "TJ3R9paLRAlH",
        "colab_type": "code",
        "colab": {
          "base_uri": "https://localhost:8080/",
          "height": 34
        },
        "outputId": "550734eb-5f39-42d8-c1f9-909012c7941c"
      },
      "source": [
        "ccms_fault"
      ],
      "execution_count": 106,
      "outputs": [
        {
          "output_type": "execute_result",
          "data": {
            "text/plain": [
              "['a']"
            ]
          },
          "metadata": {
            "tags": []
          },
          "execution_count": 106
        }
      ]
    },
    {
      "cell_type": "code",
      "metadata": {
        "id": "_npgy0AvTT1k",
        "colab_type": "code",
        "colab": {
          "base_uri": "https://localhost:8080/",
          "height": 34
        },
        "outputId": "5a884bf8-501e-4501-a6c4-a96b4a0a3b17"
      },
      "source": [
        "slid_fault"
      ],
      "execution_count": 105,
      "outputs": [
        {
          "output_type": "execute_result",
          "data": {
            "text/plain": [
              "[2]"
            ]
          },
          "metadata": {
            "tags": []
          },
          "execution_count": 105
        }
      ]
    },
    {
      "cell_type": "code",
      "metadata": {
        "id": "PNzwWLTnTbu1",
        "colab_type": "code",
        "colab": {}
      },
      "source": [
        ""
      ],
      "execution_count": 0,
      "outputs": []
    }
  ]
}